{
 "cells": [
  {
   "cell_type": "code",
   "execution_count": 1,
   "metadata": {},
   "outputs": [],
   "source": [
    "import game_connect4\n",
    "import numpy as np\n",
    "\n",
    "game = game_connect4.Connect4()"
   ]
  },
  {
   "cell_type": "code",
   "execution_count": 2,
   "metadata": {},
   "outputs": [
    {
     "name": "stdout",
     "output_type": "stream",
     "text": [
      "  0  0  0  0  0  0  0\n",
      "  0  0  0  0  0  0  0\n",
      "  0  0  0  0  0  0  0\n",
      "  0  0  0  0  0  0  0\n",
      "  0  0  0  0  0  0  0\n",
      "  0  0  0  0  0  0  0\n"
     ]
    }
   ],
   "source": [
    "game.print_gameboard()\n",
    "\n",
    "game.gameboard = np.array([  [ 0,  0,  0,  0,  0,  0,  0],\n",
    "                             [ 0,  0,  0,  0,  0,  0,  0],\n",
    "                             [ 0, -1,  0,  0,  0,  1,  0],\n",
    "                             [ 0, -1,  0,  0,  1, -1,  0],\n",
    "                             [ 0, -1,  0,  1,  1, -1,  0],\n",
    "                             [ 0, -1,  1, -1, -1, -1, -1],\n",
    "                ])"
   ]
  },
  {
   "cell_type": "code",
   "execution_count": 3,
   "metadata": {},
   "outputs": [
    {
     "name": "stdout",
     "output_type": "stream",
     "text": [
      "  0  0  0  0  0  0  0\n",
      "  0  0  0  0  0  0  0\n",
      "  0 -1  0  0  0  1  0\n",
      "  0 -1  0  0  1 -1  0\n",
      "  0 -1  0  1  1 -1  0\n",
      "  0 -1  1 -1 -1 -1 -1\n"
     ]
    }
   ],
   "source": [
    "game.print_gameboard()"
   ]
  },
  {
   "cell_type": "code",
   "execution_count": 4,
   "metadata": {},
   "outputs": [
    {
     "name": "stdout",
     "output_type": "stream",
     "text": [
      "True\n"
     ]
    }
   ],
   "source": [
    "game.coin = -1\n",
    "print(game.check_connect_4(3, 5))"
   ]
  },
  {
   "cell_type": "code",
   "execution_count": 5,
   "metadata": {},
   "outputs": [
    {
     "name": "stdout",
     "output_type": "stream",
     "text": [
      "curr_x_pos = 5\n",
      "curr_y_pos = 1\n",
      "[]\n",
      "curr_x_pos = 4\n",
      "curr_y_pos = 2\n",
      "[]\n",
      "curr_x_pos = 3\n",
      "curr_y_pos = 3\n",
      "[[ 0  0  0  0]\n",
      " [ 0  0  0  0]\n",
      " [ 0  0  1  0]\n",
      " [ 0  1 -1  0]]\n",
      "curr_x_pos = 2\n",
      "curr_y_pos = 4\n",
      "[[ 0  0  0  0]\n",
      " [ 0  0  0  1]\n",
      " [ 0  0  1 -1]\n",
      " [ 0  1  1 -1]]\n",
      "False\n",
      "  0  0  0  0  0  0  0\n",
      "  0  0  0  0  0  0  0\n",
      "  0 -1  0  0  0  1  0\n",
      "  0 -1  0  0  1 -1  0\n",
      "  0 -1  0  1  1 -1  0\n",
      "  0 -1  1 -1 -1 -1 -1\n"
     ]
    }
   ],
   "source": [
    "game.coin = 1\n",
    "print(game.check_connect_4(5, 1))\n",
    "game.print_gameboard()"
   ]
  },
  {
   "cell_type": "code",
   "execution_count": 6,
   "metadata": {},
   "outputs": [
    {
     "name": "stdout",
     "output_type": "stream",
     "text": [
      "  0  0  0  0  0  0  0\n",
      "  0  0  0  0  0  0  0\n",
      "  0 -1  1  0  0  1  0\n",
      "  0 -1 -1  1  1 -1  0\n",
      "  0 -1 -1  1  1 -1  0\n",
      "  0 -1  1 -1 -1  1 -1\n"
     ]
    }
   ],
   "source": [
    "game.gameboard = np.array([  [ 0,  0,  0,  0,  0,  0,  0],\n",
    "                             [ 0,  0,  0,  0,  0,  0,  0],\n",
    "                             [ 0, -1,  1,  0,  0,  1,  0],\n",
    "                             [ 0, -1, -1,  1,  1, -1,  0],\n",
    "                             [ 0, -1, -1,  1,  1, -1,  0],\n",
    "                             [ 0, -1,  1, -1, -1,  1, -1],\n",
    "                ])\n",
    "\n",
    "game.print_gameboard()"
   ]
  },
  {
   "cell_type": "code",
   "execution_count": 7,
   "metadata": {},
   "outputs": [
    {
     "name": "stdout",
     "output_type": "stream",
     "text": [
      "True\n",
      "  0  0  0  0  0  0  0\n",
      "  0  0  0  0  0  0  0\n",
      "  0 -1  1  0  0  1  0\n",
      "  0 -1 -1  1  1 -1  0\n",
      "  0 -1 -1  1  1 -1  0\n",
      "  0 -1  1 -1 -1  1 -1\n"
     ]
    }
   ],
   "source": [
    "game.coin = 1\n",
    "print(game.check_connect_4(2, 2))\n",
    "game.print_gameboard()"
   ]
  },
  {
   "cell_type": "code",
   "execution_count": 8,
   "metadata": {},
   "outputs": [
    {
     "name": "stdout",
     "output_type": "stream",
     "text": [
      "False\n",
      "[0 0 0 0 0 0 0]\n",
      "[0 0 0 0 0 0 0]\n",
      "[ 0 -1  0  0  0  0  0]\n",
      "[ 0 -1  0  0  0  0  0]\n",
      "[ 0 -1  0  0  0  0  0]\n",
      "[1 1 1 0 0 0 0]\n"
     ]
    }
   ],
   "source": [
    "print(game.add_coin(2))\n",
    "game.print_gameboard()"
   ]
  },
  {
   "cell_type": "code",
   "execution_count": 9,
   "metadata": {},
   "outputs": [
    {
     "name": "stdout",
     "output_type": "stream",
     "text": [
      "False\n",
      "[0 0 0 0 0 0 0]\n",
      "[0 0 0 0 0 0 0]\n",
      "[ 0 -1  0  0  0  0  0]\n",
      "[ 0 -1  0  0  0  0  0]\n",
      "[ 0 -1  0  0  0  0  0]\n",
      "[1 1 1 1 0 0 0]\n"
     ]
    }
   ],
   "source": [
    "print(game.add_coin(4))\n",
    "game.print_gameboard()"
   ]
  },
  {
   "cell_type": "code",
   "execution_count": null,
   "metadata": {},
   "outputs": [],
   "source": []
  }
 ],
 "metadata": {
  "kernelspec": {
   "display_name": "tf",
   "language": "python",
   "name": "python3"
  },
  "language_info": {
   "codemirror_mode": {
    "name": "ipython",
    "version": 3
   },
   "file_extension": ".py",
   "mimetype": "text/x-python",
   "name": "python",
   "nbconvert_exporter": "python",
   "pygments_lexer": "ipython3",
   "version": "3.9.16"
  },
  "orig_nbformat": 4,
  "vscode": {
   "interpreter": {
    "hash": "225d71fa1ddb820a38bf9091a8f7fa947e420e1bf567831e03c249b6c6f62e73"
   }
  }
 },
 "nbformat": 4,
 "nbformat_minor": 2
}
