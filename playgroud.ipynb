{
 "cells": [
  {
   "cell_type": "code",
   "execution_count": 1,
   "metadata": {},
   "outputs": [],
   "source": [
    "import game_connect4\n",
    "\n",
    "game = game_connect4.Connect4()"
   ]
  },
  {
   "cell_type": "code",
   "execution_count": 2,
   "metadata": {},
   "outputs": [
    {
     "name": "stdout",
     "output_type": "stream",
     "text": [
      "[0 0 0 0 0 0 0]\n",
      "[0 0 0 0 0 0 0]\n",
      "[0 0 0 0 0 0 0]\n",
      "[0 0 0 0 0 0 0]\n",
      "[0 0 0 0 0 0 0]\n",
      "[0 0 0 0 0 0 0]\n"
     ]
    }
   ],
   "source": [
    "game.print_gameboard()"
   ]
  },
  {
   "cell_type": "code",
   "execution_count": 4,
   "metadata": {},
   "outputs": [
    {
     "name": "stdout",
     "output_type": "stream",
     "text": [
      "[0 0 0 0 0 0 0]\n",
      "[0 0 0 0 0 0 0]\n",
      "[0 0 0 0 0 0 0]\n",
      "[0 0 0 0 0 0 0]\n",
      "[ 0 -1  0  0  0  0  0]\n",
      "[0 1 0 0 0 0 0]\n"
     ]
    }
   ],
   "source": [
    "game.add_coin(2)\n",
    "game.print_gameboard()"
   ]
  },
  {
   "cell_type": "code",
   "execution_count": 5,
   "metadata": {},
   "outputs": [
    {
     "name": "stdout",
     "output_type": "stream",
     "text": [
      "[0 0 0 0 0 0 0]\n",
      "[0 0 0 0 0 0 0]\n",
      "[0 0 0 0 0 0 0]\n",
      "[0 0 0 0 0 0 0]\n",
      "[ 0 -1  0  0  0  0  0]\n",
      "[0 1 1 0 0 0 0]\n"
     ]
    }
   ],
   "source": [
    "game.add_coin(3)\n",
    "game.print_gameboard()"
   ]
  },
  {
   "cell_type": "code",
   "execution_count": 6,
   "metadata": {},
   "outputs": [
    {
     "name": "stdout",
     "output_type": "stream",
     "text": [
      "[0 0 0 0 0 0 0]\n",
      "[0 0 0 0 0 0 0]\n",
      "[0 0 0 0 0 0 0]\n",
      "[ 0 -1  0  0  0  0  0]\n",
      "[ 0 -1  0  0  0  0  0]\n",
      "[0 1 1 0 0 0 0]\n"
     ]
    }
   ],
   "source": [
    "print(game.add_coin(2))\n",
    "game.print_gameboard()"
   ]
  },
  {
   "cell_type": "code",
   "execution_count": 7,
   "metadata": {},
   "outputs": [
    {
     "name": "stdout",
     "output_type": "stream",
     "text": [
      "False\n",
      "[0 0 0 0 0 0 0]\n",
      "[0 0 0 0 0 0 0]\n",
      "[0 0 0 0 0 0 0]\n",
      "[ 0 -1  0  0  0  0  0]\n",
      "[ 0 -1  0  0  0  0  0]\n",
      "[1 1 1 0 0 0 0]\n"
     ]
    }
   ],
   "source": [
    "print(game.add_coin(1))\n",
    "game.print_gameboard()"
   ]
  },
  {
   "cell_type": "code",
   "execution_count": 8,
   "metadata": {},
   "outputs": [
    {
     "name": "stdout",
     "output_type": "stream",
     "text": [
      "False\n",
      "[0 0 0 0 0 0 0]\n",
      "[0 0 0 0 0 0 0]\n",
      "[ 0 -1  0  0  0  0  0]\n",
      "[ 0 -1  0  0  0  0  0]\n",
      "[ 0 -1  0  0  0  0  0]\n",
      "[1 1 1 0 0 0 0]\n"
     ]
    }
   ],
   "source": [
    "print(game.add_coin(2))\n",
    "game.print_gameboard()"
   ]
  },
  {
   "cell_type": "code",
   "execution_count": 9,
   "metadata": {},
   "outputs": [
    {
     "name": "stdout",
     "output_type": "stream",
     "text": [
      "False\n",
      "[0 0 0 0 0 0 0]\n",
      "[0 0 0 0 0 0 0]\n",
      "[ 0 -1  0  0  0  0  0]\n",
      "[ 0 -1  0  0  0  0  0]\n",
      "[ 0 -1  0  0  0  0  0]\n",
      "[1 1 1 1 0 0 0]\n"
     ]
    }
   ],
   "source": [
    "print(game.add_coin(4))\n",
    "game.print_gameboard()"
   ]
  },
  {
   "cell_type": "code",
   "execution_count": null,
   "metadata": {},
   "outputs": [],
   "source": []
  }
 ],
 "metadata": {
  "kernelspec": {
   "display_name": "tf",
   "language": "python",
   "name": "python3"
  },
  "language_info": {
   "codemirror_mode": {
    "name": "ipython",
    "version": 3
   },
   "file_extension": ".py",
   "mimetype": "text/x-python",
   "name": "python",
   "nbconvert_exporter": "python",
   "pygments_lexer": "ipython3",
   "version": "3.9.13"
  },
  "orig_nbformat": 4,
  "vscode": {
   "interpreter": {
    "hash": "225d71fa1ddb820a38bf9091a8f7fa947e420e1bf567831e03c249b6c6f62e73"
   }
  }
 },
 "nbformat": 4,
 "nbformat_minor": 2
}
